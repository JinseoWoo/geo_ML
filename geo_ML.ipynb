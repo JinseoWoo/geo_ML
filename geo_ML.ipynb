{
  "nbformat": 4,
  "nbformat_minor": 0,
  "metadata": {
    "kernelspec": {
      "display_name": "Python 3",
      "language": "python",
      "name": "python3"
    },
    "language_info": {
      "codemirror_mode": {
        "name": "ipython",
        "version": 3
      },
      "file_extension": ".py",
      "mimetype": "text/x-python",
      "name": "python",
      "nbconvert_exporter": "python",
      "pygments_lexer": "ipython3",
      "version": "3.7.6"
    },
    "toc": {
      "base_numbering": 1,
      "nav_menu": {},
      "number_sections": true,
      "sideBar": true,
      "skip_h1_title": false,
      "title_cell": "Table of Contents",
      "title_sidebar": "Contents",
      "toc_cell": false,
      "toc_position": {},
      "toc_section_display": true,
      "toc_window_display": false
    },
    "colab": {
      "name": "geo_ML.ipynb",
      "provenance": [],
      "collapsed_sections": [],
      "include_colab_link": true
    }
  },
  "cells": [
    {
      "cell_type": "markdown",
      "metadata": {
        "id": "view-in-github",
        "colab_type": "text"
      },
      "source": [
        "<a href=\"https://colab.research.google.com/github/JinseoWoo/geo_ML/blob/main/geo_ML.ipynb\" target=\"_parent\"><img src=\"https://colab.research.google.com/assets/colab-badge.svg\" alt=\"Open In Colab\"/></a>"
      ]
    },
    {
      "cell_type": "markdown",
      "metadata": {
        "id": "qifzDX86mjrr"
      },
      "source": [
        "# 필요 라이브러리 import"
      ]
    },
    {
      "cell_type": "code",
      "metadata": {
        "colab": {
          "base_uri": "https://localhost:8080/"
        },
        "id": "064o9oiVng_c",
        "outputId": "8336b952-0062-4ee5-e420-d16e1acda6ec"
      },
      "source": [
        "try:\n",
        "    # Check if notebook is running in Google Colab\n",
        "    import google.colab\n",
        "    !pip install  bayesian-optimization\n",
        "except:\n",
        "    pass"
      ],
      "execution_count": 17,
      "outputs": [
        {
          "output_type": "stream",
          "text": [
            "Collecting bayesian-optimization\n",
            "  Downloading https://files.pythonhosted.org/packages/bb/7a/fd8059a3881d3ab37ac8f72f56b73937a14e8bb14a9733e68cc8b17dbe3c/bayesian-optimization-1.2.0.tar.gz\n",
            "Requirement already satisfied: numpy>=1.9.0 in /usr/local/lib/python3.6/dist-packages (from bayesian-optimization) (1.19.4)\n",
            "Requirement already satisfied: scipy>=0.14.0 in /usr/local/lib/python3.6/dist-packages (from bayesian-optimization) (1.4.1)\n",
            "Requirement already satisfied: scikit-learn>=0.18.0 in /usr/local/lib/python3.6/dist-packages (from bayesian-optimization) (0.22.2.post1)\n",
            "Requirement already satisfied: joblib>=0.11 in /usr/local/lib/python3.6/dist-packages (from scikit-learn>=0.18.0->bayesian-optimization) (1.0.0)\n",
            "Building wheels for collected packages: bayesian-optimization\n",
            "  Building wheel for bayesian-optimization (setup.py) ... \u001b[?25l\u001b[?25hdone\n",
            "  Created wheel for bayesian-optimization: filename=bayesian_optimization-1.2.0-cp36-none-any.whl size=11685 sha256=98ea513ddc277b0476e22e52822938b69227c2e6244b76d65f62689bc7f4e3ad\n",
            "  Stored in directory: /root/.cache/pip/wheels/5a/56/ae/e0e3c1fc1954dc3ec712e2df547235ed072b448094d8f94aec\n",
            "Successfully built bayesian-optimization\n",
            "Installing collected packages: bayesian-optimization\n",
            "Successfully installed bayesian-optimization-1.2.0\n"
          ],
          "name": "stdout"
        }
      ]
    },
    {
      "cell_type": "markdown",
      "metadata": {
        "id": "Ibs7mt-HoHNl"
      },
      "source": [
        ""
      ]
    },
    {
      "cell_type": "markdown",
      "metadata": {
        "id": "AcNz0Unnmjrt"
      },
      "source": [
        "!conda install -c conda-forge bayesian-optimization --y"
      ]
    },
    {
      "cell_type": "code",
      "metadata": {
        "id": "6qRrYXnvmjrt"
      },
      "source": [
        "import pandas as pd                                          #데이터 분석 라이브러리\n",
        "from sklearn.decomposition import PCA                        #주성분 분석 라이브러리\n",
        "import numpy as np                                           # 계산 라이브러리\n",
        "from sklearn.preprocessing import MinMaxScaler, StandardScaler    # scale 라이브러리\n",
        "\n",
        "from sklearn.model_selection import train_test_split         # 데이터 분할 라이브러리\n",
        "from sklearn.model_selection import cross_validate           # Kfold 라이브러리\n",
        "from sklearn.model_selection import cross_val_score          # Kfold 라이브러리\n",
        "from sklearn.model_selection import StratifiedKFold          # Kfold 라이브러리\n",
        "\n",
        "\n",
        "from sklearn.neighbors import KNeighborsClassifier           # KNN 라이브러리\n",
        "from sklearn.svm import SVC                                  # SVM Classifier 라이브러리\n",
        "from sklearn.tree import DecisionTreeClassifier              # 결정나무분류 라이브러리\n",
        "from sklearn.linear_model import LogisticRegression          # 로지스틱 회귀 라이브러리\n",
        "from sklearn.ensemble import RandomForestClassifier          # 랜덤 포레스트 라이브러리\n",
        "from bayes_opt import BayesianOptimization                   # 베이시안 라이브러리   \n",
        "\n",
        "\n",
        "from sklearn.metrics import make_scorer                      # 평가용 라이브러리\n",
        "from sklearn.metrics import f1_score                         # f1  라이브러리\n",
        "from sklearn.metrics import accuracy_score                   # accuracy 라이브러리 \n",
        "\n",
        "\n",
        "\n",
        "import matplotlib.pyplot as plt                              # 그래프 라이브러리\n",
        "from sklearn.ensemble import VotingClassifier                # 보팅 앙상블 라이브러리\n",
        "import seaborn as sns                                        # boxplot 을 위한 라이브러리\n",
        "import joblib"
      ],
      "execution_count": 18,
      "outputs": []
    },
    {
      "cell_type": "markdown",
      "metadata": {
        "id": "Ue1d8sP3mjru"
      },
      "source": [
        "# data 불러오기"
      ]
    },
    {
      "cell_type": "code",
      "metadata": {
        "colab": {
          "resources": {
            "http://localhost:8080/nbextensions/google.colab/files.js": {
              "data": "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",
              "ok": true,
              "headers": [
                [
                  "content-type",
                  "application/javascript"
                ]
              ],
              "status": 200,
              "status_text": ""
            }
          },
          "base_uri": "https://localhost:8080/",
          "height": 73
        },
        "id": "Id_WrcKIoa2c",
        "outputId": "1154c9b0-2fc6-4e6c-e4a1-4fd7fde273ab"
      },
      "source": [
        "from google.colab import files\n",
        "uploaded = files.upload()"
      ],
      "execution_count": 5,
      "outputs": [
        {
          "output_type": "display_data",
          "data": {
            "text/html": [
              "\n",
              "     <input type=\"file\" id=\"files-d1ad8276-68ea-4a36-97eb-412974c762d6\" name=\"files[]\" multiple disabled\n",
              "        style=\"border:none\" />\n",
              "     <output id=\"result-d1ad8276-68ea-4a36-97eb-412974c762d6\">\n",
              "      Upload widget is only available when the cell has been executed in the\n",
              "      current browser session. Please rerun this cell to enable.\n",
              "      </output>\n",
              "      <script src=\"/nbextensions/google.colab/files.js\"></script> "
            ],
            "text/plain": [
              "<IPython.core.display.HTML object>"
            ]
          },
          "metadata": {
            "tags": []
          }
        },
        {
          "output_type": "stream",
          "text": [
            "Saving geo_training_seq_data.csv to geo_training_seq_data.csv\n"
          ],
          "name": "stdout"
        }
      ]
    },
    {
      "cell_type": "code",
      "metadata": {
        "id": "uR8FcLLoo5xa"
      },
      "source": [
        "#import pandas as pd\n",
        "import io\n",
        "File = pd.read_csv(io.BytesIO(uploaded['geo_training_seq_data.csv']))"
      ],
      "execution_count": 6,
      "outputs": []
    },
    {
      "cell_type": "code",
      "metadata": {
        "id": "j6kJLS-3mjru"
      },
      "source": [
        "#File = pd.read_csv(\"../../Data/final_data/training/geo_data/geo_training_seq_data.csv\") # 데이터 불러오기"
      ],
      "execution_count": null,
      "outputs": []
    },
    {
      "cell_type": "code",
      "metadata": {
        "id": "lER67o0lmjru"
      },
      "source": [
        "Floodfile = File.drop(['Unnamed: 0','FLOOD'], axis = 1)  # 필요 독립변수\n",
        "Floodclass = File['FLOOD']                                            # 종속 변수 "
      ],
      "execution_count": 7,
      "outputs": []
    },
    {
      "cell_type": "code",
      "metadata": {
        "colab": {
          "base_uri": "https://localhost:8080/",
          "height": 419
        },
        "id": "Sk-CAQg-mjrv",
        "outputId": "c46f1bd0-a88a-46b0-b809-446eaf98ae73"
      },
      "source": [
        "Floodfile"
      ],
      "execution_count": 8,
      "outputs": [
        {
          "output_type": "execute_result",
          "data": {
            "text/html": [
              "<div>\n",
              "<style scoped>\n",
              "    .dataframe tbody tr th:only-of-type {\n",
              "        vertical-align: middle;\n",
              "    }\n",
              "\n",
              "    .dataframe tbody tr th {\n",
              "        vertical-align: top;\n",
              "    }\n",
              "\n",
              "    .dataframe thead th {\n",
              "        text-align: right;\n",
              "    }\n",
              "</style>\n",
              "<table border=\"1\" class=\"dataframe\">\n",
              "  <thead>\n",
              "    <tr style=\"text-align: right;\">\n",
              "      <th></th>\n",
              "      <th>PUMP_RATIO</th>\n",
              "      <th>Hourly_Rainfall_Weight</th>\n",
              "      <th>Impervious_Surface_Weight</th>\n",
              "      <th>SLOPE_AVG_Weight</th>\n",
              "      <th>HIGH_Weight</th>\n",
              "      <th>F_WEIGHT</th>\n",
              "    </tr>\n",
              "  </thead>\n",
              "  <tbody>\n",
              "    <tr>\n",
              "      <th>0</th>\n",
              "      <td>4.115226e-07</td>\n",
              "      <td>0.104348</td>\n",
              "      <td>0.467342</td>\n",
              "      <td>0.599952</td>\n",
              "      <td>0.045968</td>\n",
              "      <td>0.075019</td>\n",
              "    </tr>\n",
              "    <tr>\n",
              "      <th>1</th>\n",
              "      <td>4.115226e-07</td>\n",
              "      <td>0.208696</td>\n",
              "      <td>0.467342</td>\n",
              "      <td>0.599952</td>\n",
              "      <td>0.045968</td>\n",
              "      <td>0.075019</td>\n",
              "    </tr>\n",
              "    <tr>\n",
              "      <th>2</th>\n",
              "      <td>4.115226e-07</td>\n",
              "      <td>0.259722</td>\n",
              "      <td>0.467342</td>\n",
              "      <td>0.599952</td>\n",
              "      <td>0.045968</td>\n",
              "      <td>0.075019</td>\n",
              "    </tr>\n",
              "    <tr>\n",
              "      <th>3</th>\n",
              "      <td>4.115226e-07</td>\n",
              "      <td>0.010870</td>\n",
              "      <td>0.467342</td>\n",
              "      <td>2.699784</td>\n",
              "      <td>0.072218</td>\n",
              "      <td>0.075019</td>\n",
              "    </tr>\n",
              "    <tr>\n",
              "      <th>4</th>\n",
              "      <td>4.115226e-07</td>\n",
              "      <td>0.108696</td>\n",
              "      <td>0.467342</td>\n",
              "      <td>2.699784</td>\n",
              "      <td>0.072218</td>\n",
              "      <td>0.075019</td>\n",
              "    </tr>\n",
              "    <tr>\n",
              "      <th>...</th>\n",
              "      <td>...</td>\n",
              "      <td>...</td>\n",
              "      <td>...</td>\n",
              "      <td>...</td>\n",
              "      <td>...</td>\n",
              "      <td>...</td>\n",
              "    </tr>\n",
              "    <tr>\n",
              "      <th>791</th>\n",
              "      <td>1.364381e-08</td>\n",
              "      <td>0.573248</td>\n",
              "      <td>1.156156</td>\n",
              "      <td>7.040000</td>\n",
              "      <td>115.950324</td>\n",
              "      <td>0.016667</td>\n",
              "    </tr>\n",
              "    <tr>\n",
              "      <th>792</th>\n",
              "      <td>1.364381e-08</td>\n",
              "      <td>0.573248</td>\n",
              "      <td>1.156156</td>\n",
              "      <td>21.608643</td>\n",
              "      <td>13.159136</td>\n",
              "      <td>0.016667</td>\n",
              "    </tr>\n",
              "    <tr>\n",
              "      <th>793</th>\n",
              "      <td>1.364381e-08</td>\n",
              "      <td>0.573248</td>\n",
              "      <td>1.156156</td>\n",
              "      <td>12.147570</td>\n",
              "      <td>0.066817</td>\n",
              "      <td>0.016667</td>\n",
              "    </tr>\n",
              "    <tr>\n",
              "      <th>794</th>\n",
              "      <td>1.364381e-08</td>\n",
              "      <td>0.573248</td>\n",
              "      <td>1.156156</td>\n",
              "      <td>21.608643</td>\n",
              "      <td>0.061794</td>\n",
              "      <td>0.016667</td>\n",
              "    </tr>\n",
              "    <tr>\n",
              "      <th>795</th>\n",
              "      <td>1.364381e-08</td>\n",
              "      <td>0.573248</td>\n",
              "      <td>1.156156</td>\n",
              "      <td>21.608643</td>\n",
              "      <td>448.115108</td>\n",
              "      <td>0.016667</td>\n",
              "    </tr>\n",
              "  </tbody>\n",
              "</table>\n",
              "<p>796 rows × 6 columns</p>\n",
              "</div>"
            ],
            "text/plain": [
              "       PUMP_RATIO  Hourly_Rainfall_Weight  ...  HIGH_Weight  F_WEIGHT\n",
              "0    4.115226e-07                0.104348  ...     0.045968  0.075019\n",
              "1    4.115226e-07                0.208696  ...     0.045968  0.075019\n",
              "2    4.115226e-07                0.259722  ...     0.045968  0.075019\n",
              "3    4.115226e-07                0.010870  ...     0.072218  0.075019\n",
              "4    4.115226e-07                0.108696  ...     0.072218  0.075019\n",
              "..            ...                     ...  ...          ...       ...\n",
              "791  1.364381e-08                0.573248  ...   115.950324  0.016667\n",
              "792  1.364381e-08                0.573248  ...    13.159136  0.016667\n",
              "793  1.364381e-08                0.573248  ...     0.066817  0.016667\n",
              "794  1.364381e-08                0.573248  ...     0.061794  0.016667\n",
              "795  1.364381e-08                0.573248  ...   448.115108  0.016667\n",
              "\n",
              "[796 rows x 6 columns]"
            ]
          },
          "metadata": {
            "tags": []
          },
          "execution_count": 8
        }
      ]
    },
    {
      "cell_type": "markdown",
      "metadata": {
        "id": "n3NIT2vdmjrv"
      },
      "source": [
        "# minmaxscaler\n",
        "## data scale 과정"
      ]
    },
    {
      "cell_type": "code",
      "metadata": {
        "id": "zbVwbyY1mjrv"
      },
      "source": [
        "scaler = MinMaxScaler()\n",
        "scaler.fit(Floodfile)\n",
        "Floodfile = scaler.transform(Floodfile)  # data sclae 과정 -> minmaxscaler 를 통해 0~1의 값으로 변환"
      ],
      "execution_count": 9,
      "outputs": []
    },
    {
      "cell_type": "markdown",
      "metadata": {
        "id": "YU44blTImjrw"
      },
      "source": [
        "# PCA"
      ]
    },
    {
      "cell_type": "code",
      "metadata": {
        "id": "rZjNWd1Tmjrw"
      },
      "source": [
        "pca = PCA(n_components=4)  # 주성분 분석 후 -> 주성분을 몇개로 할지 결정\n",
        "printcipalComponents = pca.fit_transform(Floodfile)  \n",
        "Floodfile = pd.DataFrame(data=printcipalComponents, columns = ['principal component1', 'principal component2','principal component3', 'principal component4'])\n",
        "# pca를 통해 나온 4가지 주성분을 독립변수로 사용하도록 데이터 변형"
      ],
      "execution_count": 10,
      "outputs": []
    },
    {
      "cell_type": "code",
      "metadata": {
        "scrolled": true,
        "colab": {
          "base_uri": "https://localhost:8080/",
          "height": 419
        },
        "id": "TdO9ait3mjrw",
        "outputId": "06ca121d-4b53-4eef-a08b-9e4e9b87bf42"
      },
      "source": [
        "Floodfile"
      ],
      "execution_count": 11,
      "outputs": [
        {
          "output_type": "execute_result",
          "data": {
            "text/html": [
              "<div>\n",
              "<style scoped>\n",
              "    .dataframe tbody tr th:only-of-type {\n",
              "        vertical-align: middle;\n",
              "    }\n",
              "\n",
              "    .dataframe tbody tr th {\n",
              "        vertical-align: top;\n",
              "    }\n",
              "\n",
              "    .dataframe thead th {\n",
              "        text-align: right;\n",
              "    }\n",
              "</style>\n",
              "<table border=\"1\" class=\"dataframe\">\n",
              "  <thead>\n",
              "    <tr style=\"text-align: right;\">\n",
              "      <th></th>\n",
              "      <th>principal component1</th>\n",
              "      <th>principal component2</th>\n",
              "      <th>principal component3</th>\n",
              "      <th>principal component4</th>\n",
              "    </tr>\n",
              "  </thead>\n",
              "  <tbody>\n",
              "    <tr>\n",
              "      <th>0</th>\n",
              "      <td>0.063927</td>\n",
              "      <td>-0.681744</td>\n",
              "      <td>0.053284</td>\n",
              "      <td>0.082002</td>\n",
              "    </tr>\n",
              "    <tr>\n",
              "      <th>1</th>\n",
              "      <td>0.058611</td>\n",
              "      <td>-0.630972</td>\n",
              "      <td>0.127358</td>\n",
              "      <td>-0.069406</td>\n",
              "    </tr>\n",
              "    <tr>\n",
              "      <th>2</th>\n",
              "      <td>0.056012</td>\n",
              "      <td>-0.606144</td>\n",
              "      <td>0.163581</td>\n",
              "      <td>-0.143445</td>\n",
              "    </tr>\n",
              "    <tr>\n",
              "      <th>3</th>\n",
              "      <td>0.039158</td>\n",
              "      <td>-0.683262</td>\n",
              "      <td>0.053191</td>\n",
              "      <td>0.266411</td>\n",
              "    </tr>\n",
              "    <tr>\n",
              "      <th>4</th>\n",
              "      <td>0.034175</td>\n",
              "      <td>-0.635663</td>\n",
              "      <td>0.122636</td>\n",
              "      <td>0.124467</td>\n",
              "    </tr>\n",
              "    <tr>\n",
              "      <th>...</th>\n",
              "      <td>...</td>\n",
              "      <td>...</td>\n",
              "      <td>...</td>\n",
              "      <td>...</td>\n",
              "    </tr>\n",
              "    <tr>\n",
              "      <th>791</th>\n",
              "      <td>0.025624</td>\n",
              "      <td>0.696675</td>\n",
              "      <td>0.074157</td>\n",
              "      <td>-0.569671</td>\n",
              "    </tr>\n",
              "    <tr>\n",
              "      <th>792</th>\n",
              "      <td>-0.171061</td>\n",
              "      <td>0.993761</td>\n",
              "      <td>0.527883</td>\n",
              "      <td>-0.238038</td>\n",
              "    </tr>\n",
              "    <tr>\n",
              "      <th>793</th>\n",
              "      <td>-0.036974</td>\n",
              "      <td>0.794668</td>\n",
              "      <td>0.228558</td>\n",
              "      <td>-0.458647</td>\n",
              "    </tr>\n",
              "    <tr>\n",
              "      <th>794</th>\n",
              "      <td>-0.170018</td>\n",
              "      <td>0.992751</td>\n",
              "      <td>0.527118</td>\n",
              "      <td>-0.238898</td>\n",
              "    </tr>\n",
              "    <tr>\n",
              "      <th>795</th>\n",
              "      <td>-0.205687</td>\n",
              "      <td>1.027325</td>\n",
              "      <td>0.553318</td>\n",
              "      <td>-0.209482</td>\n",
              "    </tr>\n",
              "  </tbody>\n",
              "</table>\n",
              "<p>796 rows × 4 columns</p>\n",
              "</div>"
            ],
            "text/plain": [
              "     principal component1  ...  principal component4\n",
              "0                0.063927  ...              0.082002\n",
              "1                0.058611  ...             -0.069406\n",
              "2                0.056012  ...             -0.143445\n",
              "3                0.039158  ...              0.266411\n",
              "4                0.034175  ...              0.124467\n",
              "..                    ...  ...                   ...\n",
              "791              0.025624  ...             -0.569671\n",
              "792             -0.171061  ...             -0.238038\n",
              "793             -0.036974  ...             -0.458647\n",
              "794             -0.170018  ...             -0.238898\n",
              "795             -0.205687  ...             -0.209482\n",
              "\n",
              "[796 rows x 4 columns]"
            ]
          },
          "metadata": {
            "tags": []
          },
          "execution_count": 11
        }
      ]
    },
    {
      "cell_type": "markdown",
      "metadata": {
        "id": "GpnvZY1mmjrw"
      },
      "source": [
        "# data split\n",
        "## 8 : 2 으로 training 과 test 구분"
      ]
    },
    {
      "cell_type": "code",
      "metadata": {
        "id": "XjyNG4zwmjrw"
      },
      "source": [
        "x_train, x_test, y_train, y_test = train_test_split(Floodfile, Floodclass , test_size=0.2, random_state=400)"
      ],
      "execution_count": 12,
      "outputs": []
    },
    {
      "cell_type": "markdown",
      "metadata": {
        "id": "hT2zGO-9mjrx"
      },
      "source": [
        "# BayesianOptimization"
      ]
    },
    {
      "cell_type": "code",
      "metadata": {
        "id": "YFcKyDq9mjrx"
      },
      "source": [
        "skfolds=StratifiedKFold(n_splits=5, random_state=400 ,shuffle = True)\n",
        "\n",
        "# 베이지안최적화과정에서 Kfold 를 사용하기위해 설정"
      ],
      "execution_count": 13,
      "outputs": []
    },
    {
      "cell_type": "markdown",
      "metadata": {
        "id": "HSXKh1Jjmjrx"
      },
      "source": [
        "## KNN"
      ]
    },
    {
      "cell_type": "code",
      "metadata": {
        "colab": {
          "base_uri": "https://localhost:8080/"
        },
        "id": "okiAcvD5mjrx",
        "outputId": "d26a845a-f390-4774-b647-8a72441cc81e"
      },
      "source": [
        "KNN_search_point = {'k': (3,20), 'leaf': (1,30)}  # 각 옵션들의 범위를 정해줌\n",
        "\n",
        "gp_params = {\"alpha\":1e-10}\n",
        "scores_all = []\n",
        "k_all = []\n",
        "leaf_all=[]\n",
        "\n",
        "def KNN_opt(k,leaf):\n",
        "    cvscores = []\n",
        "    \n",
        "    for train_index, val_index in skfolds.split(x_train, y_train):\n",
        "\n",
        "        x_skftrain, x_val = x_train.values[train_index], x_train.values[val_index]\n",
        "        Y_skftrain, Y_val = np.array(y_train)[train_index],np.array(y_train)[val_index]\n",
        "        # train 데이터를 5fold 를 사용해 검증하며 옵션 최적값 탐색을 위해 데이터 분할\n",
        "        \n",
        "        KNNmodel = KNeighborsClassifier(n_neighbors = int(k),weights = 'distance', leaf_size= leaf ) \n",
        "        # KNN 모델에 사용되는 옵션들의 최적값 탐색  \n",
        "        \n",
        "        KNNmodel2 = KNNmodel.fit(x_skftrain,Y_skftrain)        # 모델학습\n",
        "        y_pred = KNNmodel2.predict(x_val)                      # 예측\n",
        "\n",
        "        report = f1_score(Y_val, y_pred, average='weighted')  # F1\n",
        "        cvscores.append(report)                               # 결과들을 리스트로 저장\n",
        "    \n",
        "    \n",
        "    scores_all.append(np.mean(cvscores))\n",
        "    k_all.append(int(k))\n",
        "    \n",
        "    return np.mean(cvscores)\n",
        "\n",
        "result = BayesianOptimization(KNN_opt, KNN_search_point, random_state=10, verbose=2) \n",
        "result.maximize(acq='ucb',n_iter=15, kappa=2.576, init_points=1 , **gp_params)\n",
        "# 타겟과 범위를 정해준뒤에 그 결과를 확인 n_iter를 통해 확인 횟수 조절가능"
      ],
      "execution_count": 19,
      "outputs": [
        {
          "output_type": "stream",
          "text": [
            "|   iter    |  target   |     k     |   leaf    |\n",
            "-------------------------------------------------\n",
            "| \u001b[0m 1       \u001b[0m | \u001b[0m 0.787   \u001b[0m | \u001b[0m 16.11   \u001b[0m | \u001b[0m 1.602   \u001b[0m |\n",
            "| \u001b[95m 2       \u001b[0m | \u001b[95m 0.792   \u001b[0m | \u001b[95m 11.49   \u001b[0m | \u001b[95m 15.67   \u001b[0m |\n",
            "| \u001b[0m 3       \u001b[0m | \u001b[0m 0.7856  \u001b[0m | \u001b[0m 19.94   \u001b[0m | \u001b[0m 29.62   \u001b[0m |\n",
            "| \u001b[0m 4       \u001b[0m | \u001b[0m 0.7766  \u001b[0m | \u001b[0m 3.05    \u001b[0m | \u001b[0m 29.51   \u001b[0m |\n",
            "| \u001b[0m 5       \u001b[0m | \u001b[0m 0.7847  \u001b[0m | \u001b[0m 9.691   \u001b[0m | \u001b[0m 11.73   \u001b[0m |\n",
            "| \u001b[0m 6       \u001b[0m | \u001b[0m 0.7855  \u001b[0m | \u001b[0m 20.0    \u001b[0m | \u001b[0m 12.22   \u001b[0m |\n",
            "| \u001b[0m 7       \u001b[0m | \u001b[0m 0.7888  \u001b[0m | \u001b[0m 12.34   \u001b[0m | \u001b[0m 29.92   \u001b[0m |\n",
            "| \u001b[0m 8       \u001b[0m | \u001b[0m 0.7869  \u001b[0m | \u001b[0m 14.54   \u001b[0m | \u001b[0m 18.79   \u001b[0m |\n",
            "| \u001b[0m 9       \u001b[0m | \u001b[0m 0.7856  \u001b[0m | \u001b[0m 19.96   \u001b[0m | \u001b[0m 1.171   \u001b[0m |\n",
            "| \u001b[0m 10      \u001b[0m | \u001b[0m 0.7767  \u001b[0m | \u001b[0m 3.185   \u001b[0m | \u001b[0m 1.288   \u001b[0m |\n",
            "| \u001b[0m 11      \u001b[0m | \u001b[0m 0.7766  \u001b[0m | \u001b[0m 3.025   \u001b[0m | \u001b[0m 19.96   \u001b[0m |\n",
            "| \u001b[0m 12      \u001b[0m | \u001b[0m 0.7793  \u001b[0m | \u001b[0m 8.799   \u001b[0m | \u001b[0m 23.06   \u001b[0m |\n",
            "| \u001b[0m 13      \u001b[0m | \u001b[0m 0.7855  \u001b[0m | \u001b[0m 15.56   \u001b[0m | \u001b[0m 11.01   \u001b[0m |\n",
            "| \u001b[0m 14      \u001b[0m | \u001b[0m 0.781   \u001b[0m | \u001b[0m 10.0    \u001b[0m | \u001b[0m 1.065   \u001b[0m |\n",
            "| \u001b[0m 15      \u001b[0m | \u001b[0m 0.787   \u001b[0m | \u001b[0m 16.19   \u001b[0m | \u001b[0m 29.85   \u001b[0m |\n",
            "| \u001b[0m 16      \u001b[0m | \u001b[0m 0.7847  \u001b[0m | \u001b[0m 9.057   \u001b[0m | \u001b[0m 16.51   \u001b[0m |\n",
            "=================================================\n"
          ],
          "name": "stdout"
        }
      ]
    },
    {
      "cell_type": "code",
      "metadata": {
        "colab": {
          "base_uri": "https://localhost:8080/",
          "height": 282
        },
        "id": "_r9G4oU-mjry",
        "outputId": "3974049c-5739-4fb6-d8bf-37853929c7b6"
      },
      "source": [
        "plt.scatter(k_all, scores_all)"
      ],
      "execution_count": 20,
      "outputs": [
        {
          "output_type": "execute_result",
          "data": {
            "text/plain": [
              "<matplotlib.collections.PathCollection at 0x7fb8d3d5f550>"
            ]
          },
          "metadata": {
            "tags": []
          },
          "execution_count": 20
        },
        {
          "output_type": "display_data",
          "data": {
            "image/png": "[encoded data removed]",
            "text/plain": [
              "<Figure size 432x288 with 1 Axes>"
            ]
          },
          "metadata": {
            "tags": [],
            "needs_background": "light"
          }
        }
      ]
    },
    {
      "cell_type": "markdown",
      "metadata": {
        "id": "r5bCNTVwmjry"
      },
      "source": [
        "## SVM"
      ]
    },
    {
      "cell_type": "code",
      "metadata": {
        "colab": {
          "base_uri": "https://localhost:8080/"
        },
        "id": "TLE67EfXmjry",
        "outputId": "43b8b379-6cc4-4837-d5b2-eb76e42b1f54"
      },
      "source": [
        "# KNN 과 동일 옵션만 바뀐 상태로 범위를 지정해주고 최적값을 탐색\n",
        "SVM_search_point = {'k': (1,30), 'gamma': (0.001,20)}\n",
        "\n",
        "gp_params = {\"alpha\":1e-10}\n",
        "scores_all = []\n",
        "k_all = []\n",
        "gamma_all = []\n",
        "\n",
        "def SVM_opt(k,gamma):\n",
        "    cvscores = []\n",
        "    \n",
        "    for train_index, val_index in skfolds.split(x_train, y_train):\n",
        "        \n",
        "        x_skftrain, x_val = x_train.values[train_index],x_train.values[val_index]\n",
        "        Y_skftrain, Y_val = np.array(y_train)[train_index],np.array(y_train)[val_index]\n",
        "\n",
        "        SVMmodel = SVC( C= int(k) , kernel='rbf' , probability = True, gamma= gamma ) # SVM  \n",
        "        \n",
        "        SVMmodel2 = SVMmodel.fit(x_skftrain,Y_skftrain)      # 모델학습\n",
        "        y_pred = SVMmodel2.predict(x_val)                    # 예측\n",
        "\n",
        "        report = f1_score(Y_val, y_pred, average='weighted') # F1\n",
        "        cvscores.append(report)\n",
        "    \n",
        "    scores_all.append(np.mean(cvscores))\n",
        "    k_all.append(int(k))\n",
        "    return np.mean(cvscores)\n",
        "\n",
        "result = BayesianOptimization(SVM_opt, SVM_search_point, random_state=10, verbose=2) \n",
        "result.maximize(acq='ucb',n_iter=20, kappa=2.576, init_points=1 , **gp_params)"
      ],
      "execution_count": 21,
      "outputs": [
        {
          "output_type": "stream",
          "text": [
            "|   iter    |  target   |   gamma   |     k     |\n",
            "-------------------------------------------------\n",
            "| \u001b[0m 1       \u001b[0m | \u001b[0m 0.7658  \u001b[0m | \u001b[0m 15.43   \u001b[0m | \u001b[0m 1.602   \u001b[0m |\n",
            "| \u001b[95m 2       \u001b[0m | \u001b[95m 0.7752  \u001b[0m | \u001b[95m 9.991   \u001b[0m | \u001b[95m 15.67   \u001b[0m |\n",
            "| \u001b[95m 3       \u001b[0m | \u001b[95m 0.7795  \u001b[0m | \u001b[95m 19.93   \u001b[0m | \u001b[95m 29.62   \u001b[0m |\n",
            "| \u001b[0m 4       \u001b[0m | \u001b[0m 0.7646  \u001b[0m | \u001b[0m 0.2069  \u001b[0m | \u001b[0m 29.92   \u001b[0m |\n",
            "| \u001b[0m 5       \u001b[0m | \u001b[0m 0.7768  \u001b[0m | \u001b[0m 7.662   \u001b[0m | \u001b[0m 1.622   \u001b[0m |\n",
            "| \u001b[0m 6       \u001b[0m | \u001b[0m 0.4975  \u001b[0m | \u001b[0m 0.02341 \u001b[0m | \u001b[0m 1.678   \u001b[0m |\n",
            "| \u001b[95m 7       \u001b[0m | \u001b[95m 0.7821  \u001b[0m | \u001b[95m 10.15   \u001b[0m | \u001b[95m 30.0    \u001b[0m |\n",
            "| \u001b[95m 8       \u001b[0m | \u001b[95m 0.7833  \u001b[0m | \u001b[95m 18.04   \u001b[0m | \u001b[95m 3.379   \u001b[0m |\n",
            "| \u001b[0m 9       \u001b[0m | \u001b[0m 0.7781  \u001b[0m | \u001b[0m 20.0    \u001b[0m | \u001b[0m 16.88   \u001b[0m |\n",
            "| \u001b[95m 10      \u001b[0m | \u001b[95m 0.7847  \u001b[0m | \u001b[95m 12.97   \u001b[0m | \u001b[95m 8.226   \u001b[0m |\n",
            "| \u001b[0m 11      \u001b[0m | \u001b[0m 0.4975  \u001b[0m | \u001b[0m 0.001   \u001b[0m | \u001b[0m 20.33   \u001b[0m |\n",
            "| \u001b[0m 12      \u001b[0m | \u001b[0m 0.7797  \u001b[0m | \u001b[0m 14.8    \u001b[0m | \u001b[0m 23.27   \u001b[0m |\n",
            "| \u001b[95m 13      \u001b[0m | \u001b[95m 0.7903  \u001b[0m | \u001b[95m 20.0    \u001b[0m | \u001b[95m 9.558   \u001b[0m |\n",
            "| \u001b[0m 14      \u001b[0m | \u001b[0m 0.7803  \u001b[0m | \u001b[0m 19.63   \u001b[0m | \u001b[0m 1.074   \u001b[0m |\n",
            "| \u001b[0m 15      \u001b[0m | \u001b[0m 0.7867  \u001b[0m | \u001b[0m 15.17   \u001b[0m | \u001b[0m 15.24   \u001b[0m |\n",
            "| \u001b[0m 16      \u001b[0m | \u001b[0m 0.7728  \u001b[0m | \u001b[0m 5.225   \u001b[0m | \u001b[0m 29.98   \u001b[0m |\n",
            "| \u001b[0m 17      \u001b[0m | \u001b[0m 0.7697  \u001b[0m | \u001b[0m 8.245   \u001b[0m | \u001b[0m 6.527   \u001b[0m |\n",
            "| \u001b[0m 18      \u001b[0m | \u001b[0m 0.7794  \u001b[0m | \u001b[0m 20.0    \u001b[0m | \u001b[0m 24.09   \u001b[0m |\n",
            "| \u001b[0m 19      \u001b[0m | \u001b[0m 0.7784  \u001b[0m | \u001b[0m 15.65   \u001b[0m | \u001b[0m 29.95   \u001b[0m |\n",
            "| \u001b[0m 20      \u001b[0m | \u001b[0m 0.7819  \u001b[0m | \u001b[0m 20.0    \u001b[0m | \u001b[0m 5.606   \u001b[0m |\n",
            "| \u001b[0m 21      \u001b[0m | \u001b[0m 0.785   \u001b[0m | \u001b[0m 10.16   \u001b[0m | \u001b[0m 24.87   \u001b[0m |\n",
            "=================================================\n"
          ],
          "name": "stdout"
        }
      ]
    },
    {
      "cell_type": "code",
      "metadata": {
        "colab": {
          "base_uri": "https://localhost:8080/",
          "height": 283
        },
        "id": "NPWUa7wImjry",
        "outputId": "9eb615f5-91b7-4449-fb5a-dd02606adb8f"
      },
      "source": [
        "plt.scatter(k_all, scores_all)"
      ],
      "execution_count": 22,
      "outputs": [
        {
          "output_type": "execute_result",
          "data": {
            "text/plain": [
              "<matplotlib.collections.PathCollection at 0x7fb8d3cda4a8>"
            ]
          },
          "metadata": {
            "tags": []
          },
          "execution_count": 22
        },
        {
          "output_type": "display_data",
          "data": {
            "image/png": "[encoded data removed]",
            "text/plain": [
              "<Figure size 432x288 with 1 Axes>"
            ]
          },
          "metadata": {
            "tags": [],
            "needs_background": "light"
          }
        }
      ]
    },
    {
      "cell_type": "markdown",
      "metadata": {
        "id": "0g75Jeh8mjrz"
      },
      "source": [
        "## Decision Tree"
      ]
    },
    {
      "cell_type": "code",
      "metadata": {
        "colab": {
          "base_uri": "https://localhost:8080/"
        },
        "id": "C5m_HGDymjrz",
        "outputId": "d7bad983-6be5-4a8d-f349-0d8c268385b2"
      },
      "source": [
        "DT_search_point = { 'k': (1,30), 'leaf' : ( 2, 30), 'split': (2,30) }\n",
        "\n",
        "gp_params = {\"alpha\":1e-10}\n",
        "scores_all = []\n",
        "k_all = []\n",
        "leaf_all = []\n",
        "split_all = []\n",
        "\n",
        "def DT_opt(k,leaf,split):\n",
        "    cvscores = []\n",
        "    \n",
        "    for train_index, val_index in skfolds.split(x_train, y_train):\n",
        "        x_skftrain, x_val = x_train.values[train_index],x_train.values[val_index]\n",
        "        Y_skftrain, Y_val = np.array(y_train)[train_index],np.array(y_train)[val_index]\n",
        "\n",
        "        DTmodel = DecisionTreeClassifier(criterion='gini',\n",
        "                                         max_depth=int(k), \n",
        "                                         min_samples_leaf= int(leaf),\n",
        "                                         min_samples_split= int(split)) #DT  \n",
        "        \n",
        "        \n",
        "        DTmodel2 = DTmodel.fit(x_skftrain,Y_skftrain)      # 모델학습\n",
        "        y_pred = DTmodel2.predict(x_val)                    # 예측\n",
        "\n",
        "        report = f1_score(Y_val, y_pred, average='weighted') # F1\n",
        "        cvscores.append(report)\n",
        "    \n",
        "    scores_all.append(np.mean(cvscores))\n",
        "    k_all.append(int(k))\n",
        "    leaf_all.append(int(leaf))\n",
        "    split_all.append(split)\n",
        "\n",
        "    \n",
        "    return np.mean(cvscores)\n",
        "\n",
        "result = BayesianOptimization(DT_opt, DT_search_point, random_state=10, verbose=2) \n",
        "result.maximize(acq='ucb',n_iter=15, kappa=2.576, init_points=1 , **gp_params)"
      ],
      "execution_count": 23,
      "outputs": [
        {
          "output_type": "stream",
          "text": [
            "|   iter    |  target   |     k     |   leaf    |   split   |\n",
            "-------------------------------------------------------------\n",
            "| \u001b[0m 1       \u001b[0m | \u001b[0m 0.7602  \u001b[0m | \u001b[0m 23.37   \u001b[0m | \u001b[0m 2.581   \u001b[0m | \u001b[0m 19.74   \u001b[0m |\n",
            "| \u001b[0m 2       \u001b[0m | \u001b[0m 0.7217  \u001b[0m | \u001b[0m 26.25   \u001b[0m | \u001b[0m 23.01   \u001b[0m | \u001b[0m 19.33   \u001b[0m |\n",
            "| \u001b[0m 3       \u001b[0m | \u001b[0m 0.7213  \u001b[0m | \u001b[0m 1.0     \u001b[0m | \u001b[0m 2.0     \u001b[0m | \u001b[0m 2.0     \u001b[0m |\n",
            "| \u001b[0m 4       \u001b[0m | \u001b[0m 0.7213  \u001b[0m | \u001b[0m 1.0     \u001b[0m | \u001b[0m 2.0     \u001b[0m | \u001b[0m 30.0    \u001b[0m |\n",
            "| \u001b[95m 5       \u001b[0m | \u001b[95m 0.7661  \u001b[0m | \u001b[95m 29.62   \u001b[0m | \u001b[95m 2.082   \u001b[0m | \u001b[95m 30.0    \u001b[0m |\n",
            "| \u001b[95m 6       \u001b[0m | \u001b[95m 0.7773  \u001b[0m | \u001b[95m 29.69   \u001b[0m | \u001b[95m 2.631   \u001b[0m | \u001b[95m 3.316   \u001b[0m |\n",
            "| \u001b[0m 7       \u001b[0m | \u001b[0m 0.7765  \u001b[0m | \u001b[0m 29.7    \u001b[0m | \u001b[0m 2.272   \u001b[0m | \u001b[0m 3.552   \u001b[0m |\n",
            "| \u001b[0m 8       \u001b[0m | \u001b[0m 0.7401  \u001b[0m | \u001b[0m 2.168   \u001b[0m | \u001b[0m 29.91   \u001b[0m | \u001b[0m 2.629   \u001b[0m |\n",
            "| \u001b[0m 9       \u001b[0m | \u001b[0m 0.7098  \u001b[0m | \u001b[0m 28.53   \u001b[0m | \u001b[0m 29.5    \u001b[0m | \u001b[0m 2.303   \u001b[0m |\n",
            "| \u001b[0m 10      \u001b[0m | \u001b[0m 0.7213  \u001b[0m | \u001b[0m 1.857   \u001b[0m | \u001b[0m 28.42   \u001b[0m | \u001b[0m 29.14   \u001b[0m |\n",
            "| \u001b[0m 11      \u001b[0m | \u001b[0m 0.7592  \u001b[0m | \u001b[0m 18.09   \u001b[0m | \u001b[0m 10.19   \u001b[0m | \u001b[0m 2.008   \u001b[0m |\n",
            "| \u001b[0m 12      \u001b[0m | \u001b[0m 0.7631  \u001b[0m | \u001b[0m 29.78   \u001b[0m | \u001b[0m 8.381   \u001b[0m | \u001b[0m 9.739   \u001b[0m |\n",
            "| \u001b[0m 13      \u001b[0m | \u001b[0m 0.7544  \u001b[0m | \u001b[0m 18.67   \u001b[0m | \u001b[0m 9.152   \u001b[0m | \u001b[0m 29.95   \u001b[0m |\n",
            "| \u001b[0m 14      \u001b[0m | \u001b[0m 0.7643  \u001b[0m | \u001b[0m 29.61   \u001b[0m | \u001b[0m 6.568   \u001b[0m | \u001b[0m 2.002   \u001b[0m |\n",
            "| \u001b[0m 15      \u001b[0m | \u001b[0m 0.7098  \u001b[0m | \u001b[0m 28.26   \u001b[0m | \u001b[0m 30.0    \u001b[0m | \u001b[0m 29.82   \u001b[0m |\n",
            "| \u001b[0m 16      \u001b[0m | \u001b[0m 0.7213  \u001b[0m | \u001b[0m 1.08    \u001b[0m | \u001b[0m 13.91   \u001b[0m | \u001b[0m 16.15   \u001b[0m |\n",
            "=============================================================\n"
          ],
          "name": "stdout"
        }
      ]
    },
    {
      "cell_type": "code",
      "metadata": {
        "colab": {
          "base_uri": "https://localhost:8080/",
          "height": 284
        },
        "id": "An6B_xK8mjrz",
        "outputId": "d826e4af-9318-467d-8f22-815d8c794111"
      },
      "source": [
        "plt.scatter(k_all, scores_all)"
      ],
      "execution_count": 24,
      "outputs": [
        {
          "output_type": "execute_result",
          "data": {
            "text/plain": [
              "<matplotlib.collections.PathCollection at 0x7fb8d3c434a8>"
            ]
          },
          "metadata": {
            "tags": []
          },
          "execution_count": 24
        },
        {
          "output_type": "display_data",
          "data": {
            "image/png": "[encoded data removed]",
            "text/plain": [
              "<Figure size 432x288 with 1 Axes>"
            ]
          },
          "metadata": {
            "tags": [],
            "needs_background": "light"
          }
        }
      ]
    },
    {
      "cell_type": "markdown",
      "metadata": {
        "id": "vSOJIGpomjrz"
      },
      "source": [
        "## Random forest"
      ]
    },
    {
      "cell_type": "code",
      "metadata": {
        "colab": {
          "base_uri": "https://localhost:8080/"
        },
        "id": "rPe7X1KCmjr0",
        "outputId": "18d7bdd3-0c81-4bad-eea4-c750c39578c3"
      },
      "source": [
        "RF_search_point = { 'k': (1,50), 'depth': (1,20) , 'leaf':(1,20), 'split':(2,20)}\n",
        "\n",
        "gp_params = {\"alpha\":1e-10}\n",
        "scores_all = []\n",
        "k_all = []\n",
        "\n",
        "def RF_opt(k,depth,leaf,split):\n",
        "    cvscores = []\n",
        "    \n",
        "    for train_index, val_index in skfolds.split(x_train, y_train):\n",
        "        x_skftrain, x_val = x_train.values[train_index],x_train.values[val_index]\n",
        "        Y_skftrain, Y_val = np.array(y_train)[train_index],np.array(y_train)[val_index]\n",
        "\n",
        "        RFmodel = RandomForestClassifier( n_estimators= int(k),\n",
        "                                         max_depth =int(depth), \n",
        "                                         min_samples_leaf= int(leaf),\n",
        "                                         min_samples_split= int(split)) \n",
        "        \n",
        "        \n",
        "        RFmodel2 = RFmodel.fit(x_skftrain,Y_skftrain)      # 모델학습\n",
        "        y_pred = RFmodel2.predict(x_val)                    # 예측\n",
        "\n",
        "        report = f1_score(Y_val, y_pred, average='weighted') # F1\n",
        "        cvscores.append(report)\n",
        "    \n",
        "    scores_all.append(np.mean(cvscores))\n",
        "    k_all.append(int(k))\n",
        "    \n",
        "    return np.mean(cvscores)\n",
        "\n",
        "result = BayesianOptimization(RF_opt, RF_search_point, random_state=10, verbose=2) \n",
        "result.maximize(acq='ucb',n_iter=20, kappa=2.576, init_points=1 , **gp_params)"
      ],
      "execution_count": 25,
      "outputs": [
        {
          "output_type": "stream",
          "text": [
            "|   iter    |  target   |   depth   |     k     |   leaf    |   split   |\n",
            "-------------------------------------------------------------------------\n",
            "| \u001b[0m 1       \u001b[0m | \u001b[0m 0.7459  \u001b[0m | \u001b[0m 15.66   \u001b[0m | \u001b[0m 2.017   \u001b[0m | \u001b[0m 13.04   \u001b[0m | \u001b[0m 15.48   \u001b[0m |\n",
            "| \u001b[95m 2       \u001b[0m | \u001b[95m 0.7619  \u001b[0m | \u001b[95m 5.371   \u001b[0m | \u001b[95m 10.31   \u001b[0m | \u001b[95m 9.909   \u001b[0m | \u001b[95m 4.388   \u001b[0m |\n",
            "| \u001b[95m 3       \u001b[0m | \u001b[95m 0.7968  \u001b[0m | \u001b[95m 19.55   \u001b[0m | \u001b[95m 49.87   \u001b[0m | \u001b[95m 1.929   \u001b[0m | \u001b[95m 17.49   \u001b[0m |\n",
            "| \u001b[0m 4       \u001b[0m | \u001b[0m 0.561   \u001b[0m | \u001b[0m 1.56    \u001b[0m | \u001b[0m 49.03   \u001b[0m | \u001b[0m 19.32   \u001b[0m | \u001b[0m 19.64   \u001b[0m |\n",
            "| \u001b[0m 5       \u001b[0m | \u001b[0m 0.7515  \u001b[0m | \u001b[0m 20.0    \u001b[0m | \u001b[0m 50.0    \u001b[0m | \u001b[0m 20.0    \u001b[0m | \u001b[0m 2.0     \u001b[0m |\n",
            "| \u001b[0m 6       \u001b[0m | \u001b[0m 0.7768  \u001b[0m | \u001b[0m 20.0    \u001b[0m | \u001b[0m 1.0     \u001b[0m | \u001b[0m 1.0     \u001b[0m | \u001b[0m 2.0     \u001b[0m |\n",
            "| \u001b[0m 7       \u001b[0m | \u001b[0m 0.7864  \u001b[0m | \u001b[0m 20.0    \u001b[0m | \u001b[0m 50.0    \u001b[0m | \u001b[0m 1.0     \u001b[0m | \u001b[0m 2.0     \u001b[0m |\n",
            "| \u001b[95m 8       \u001b[0m | \u001b[95m 0.8032  \u001b[0m | \u001b[95m 20.0    \u001b[0m | \u001b[95m 23.59   \u001b[0m | \u001b[95m 1.0     \u001b[0m | \u001b[95m 20.0    \u001b[0m |\n",
            "| \u001b[0m 9       \u001b[0m | \u001b[0m 0.7493  \u001b[0m | \u001b[0m 20.0    \u001b[0m | \u001b[0m 14.77   \u001b[0m | \u001b[0m 20.0    \u001b[0m | \u001b[0m 2.0     \u001b[0m |\n",
            "| \u001b[0m 10      \u001b[0m | \u001b[0m 0.794   \u001b[0m | \u001b[0m 16.68   \u001b[0m | \u001b[0m 23.72   \u001b[0m | \u001b[0m 2.968   \u001b[0m | \u001b[0m 19.32   \u001b[0m |\n",
            "| \u001b[0m 11      \u001b[0m | \u001b[0m 0.5802  \u001b[0m | \u001b[0m 1.03    \u001b[0m | \u001b[0m 1.333   \u001b[0m | \u001b[0m 2.126   \u001b[0m | \u001b[0m 17.4    \u001b[0m |\n",
            "| \u001b[0m 12      \u001b[0m | \u001b[0m 0.754   \u001b[0m | \u001b[0m 20.0    \u001b[0m | \u001b[0m 34.41   \u001b[0m | \u001b[0m 20.0    \u001b[0m | \u001b[0m 20.0    \u001b[0m |\n",
            "| \u001b[0m 13      \u001b[0m | \u001b[0m 0.7882  \u001b[0m | \u001b[0m 20.0    \u001b[0m | \u001b[0m 30.5    \u001b[0m | \u001b[0m 1.098   \u001b[0m | \u001b[0m 2.0     \u001b[0m |\n",
            "| \u001b[0m 14      \u001b[0m | \u001b[0m 0.5201  \u001b[0m | \u001b[0m 1.429   \u001b[0m | \u001b[0m 47.47   \u001b[0m | \u001b[0m 1.109   \u001b[0m | \u001b[0m 2.608   \u001b[0m |\n",
            "| \u001b[0m 15      \u001b[0m | \u001b[0m 0.7448  \u001b[0m | \u001b[0m 3.056   \u001b[0m | \u001b[0m 3.006   \u001b[0m | \u001b[0m 20.0    \u001b[0m | \u001b[0m 2.945   \u001b[0m |\n",
            "| \u001b[0m 16      \u001b[0m | \u001b[0m 0.7918  \u001b[0m | \u001b[0m 19.81   \u001b[0m | \u001b[0m 33.03   \u001b[0m | \u001b[0m 8.002   \u001b[0m | \u001b[0m 13.17   \u001b[0m |\n",
            "| \u001b[0m 17      \u001b[0m | \u001b[0m 0.8009  \u001b[0m | \u001b[0m 19.78   \u001b[0m | \u001b[0m 16.56   \u001b[0m | \u001b[0m 4.634   \u001b[0m | \u001b[0m 7.445   \u001b[0m |\n",
            "| \u001b[0m 18      \u001b[0m | \u001b[0m 0.743   \u001b[0m | \u001b[0m 19.21   \u001b[0m | \u001b[0m 2.721   \u001b[0m | \u001b[0m 11.94   \u001b[0m | \u001b[0m 2.289   \u001b[0m |\n",
            "| \u001b[0m 19      \u001b[0m | \u001b[0m 0.7425  \u001b[0m | \u001b[0m 4.808   \u001b[0m | \u001b[0m 16.32   \u001b[0m | \u001b[0m 19.08   \u001b[0m | \u001b[0m 19.27   \u001b[0m |\n",
            "| \u001b[0m 20      \u001b[0m | \u001b[0m 0.7599  \u001b[0m | \u001b[0m 19.96   \u001b[0m | \u001b[0m 17.26   \u001b[0m | \u001b[0m 11.71   \u001b[0m | \u001b[0m 19.88   \u001b[0m |\n",
            "| \u001b[0m 21      \u001b[0m | \u001b[0m 0.7549  \u001b[0m | \u001b[0m 7.529   \u001b[0m | \u001b[0m 22.82   \u001b[0m | \u001b[0m 19.85   \u001b[0m | \u001b[0m 4.098   \u001b[0m |\n",
            "=========================================================================\n"
          ],
          "name": "stdout"
        }
      ]
    },
    {
      "cell_type": "code",
      "metadata": {
        "colab": {
          "base_uri": "https://localhost:8080/",
          "height": 282
        },
        "id": "kLJ-w8Kfmjr0",
        "outputId": "02e6738c-a34c-4246-a10b-2570baf0641e"
      },
      "source": [
        "plt.scatter(k_all, scores_all)"
      ],
      "execution_count": 26,
      "outputs": [
        {
          "output_type": "execute_result",
          "data": {
            "text/plain": [
              "<matplotlib.collections.PathCollection at 0x7fb8d3c36898>"
            ]
          },
          "metadata": {
            "tags": []
          },
          "execution_count": 26
        },
        {
          "output_type": "display_data",
          "data": {
            "image/png": "[encoded data removed]",
            "text/plain": [
              "<Figure size 432x288 with 1 Axes>"
            ]
          },
          "metadata": {
            "tags": [],
            "needs_background": "light"
          }
        }
      ]
    },
    {
      "cell_type": "markdown",
      "metadata": {
        "id": "v-4fnCvSmjr1"
      },
      "source": [
        "# Voting ensemble\n",
        "## 사용 된 모델 : KNN, SVM, Decision Tree, Logistic Regression"
      ]
    },
    {
      "cell_type": "code",
      "metadata": {
        "id": "a2mUgGynmjr1"
      },
      "source": [
        "KNN_model = KNeighborsClassifier(n_neighbors = 11, weights = 'distance')\n",
        "\n",
        "SVM_model = SVC( C= 10 , kernel='rbf' , probability = True , gamma = 20 )\n",
        "\n",
        "DT_model = DecisionTreeClassifier(criterion='gini', max_depth=29, min_samples_leaf= 2, min_samples_split= 3)\n",
        "\n",
        "RF_model = RandomForestClassifier( n_estimators= 20,min_samples_split = 2, min_samples_leaf= 6, max_depth=15)"
      ],
      "execution_count": 27,
      "outputs": []
    },
    {
      "cell_type": "code",
      "metadata": {
        "id": "_oqkDtx7mjr1"
      },
      "source": [
        "ensemble=VotingClassifier(\n",
        "        estimators=[('KNN',KNN_model),\n",
        "                   ('SVM',SVM_model),\n",
        "                   ('DT',DT_model),\n",
        "                   ('RF',RF_model)]\n",
        "        ,voting='soft')\n",
        "\n",
        "# Voting 모델 안에 각 모델들을 묶어주기"
      ],
      "execution_count": 28,
      "outputs": []
    },
    {
      "cell_type": "code",
      "metadata": {
        "colab": {
          "base_uri": "https://localhost:8080/"
        },
        "id": "SOcd-pJsmjr1",
        "outputId": "c9f8f9e2-3eee-46ec-95db-32d584f68747"
      },
      "source": [
        "KNN_model.fit(x_train,y_train)\n",
        "SVM_model.fit(x_train,y_train)\n",
        "DT_model.fit(x_train,y_train)\n",
        "RF_model.fit(x_train,y_train)\n",
        "ensemble.fit(x_train,y_train)\n",
        "\n",
        "# 각 모델에  train 데이터 학습시키고\n",
        "# 모델들이 묶어진 voting 앙상블에도 train 데이터를 학습"
      ],
      "execution_count": 29,
      "outputs": [
        {
          "output_type": "execute_result",
          "data": {
            "text/plain": [
              "VotingClassifier(estimators=[('KNN',\n",
              "                              KNeighborsClassifier(algorithm='auto',\n",
              "                                                   leaf_size=30,\n",
              "                                                   metric='minkowski',\n",
              "                                                   metric_params=None,\n",
              "                                                   n_jobs=None, n_neighbors=11,\n",
              "                                                   p=2, weights='distance')),\n",
              "                             ('SVM',\n",
              "                              SVC(C=10, break_ties=False, cache_size=200,\n",
              "                                  class_weight=None, coef0=0.0,\n",
              "                                  decision_function_shape='ovr', degree=3,\n",
              "                                  gamma=20, kernel='rbf', max_iter=-1,\n",
              "                                  probability=True, random_...\n",
              "                                                     criterion='gini',\n",
              "                                                     max_depth=15,\n",
              "                                                     max_features='auto',\n",
              "                                                     max_leaf_nodes=None,\n",
              "                                                     max_samples=None,\n",
              "                                                     min_impurity_decrease=0.0,\n",
              "                                                     min_impurity_split=None,\n",
              "                                                     min_samples_leaf=6,\n",
              "                                                     min_samples_split=2,\n",
              "                                                     min_weight_fraction_leaf=0.0,\n",
              "                                                     n_estimators=20,\n",
              "                                                     n_jobs=None,\n",
              "                                                     oob_score=False,\n",
              "                                                     random_state=None,\n",
              "                                                     verbose=0,\n",
              "                                                     warm_start=False))],\n",
              "                 flatten_transform=True, n_jobs=None, voting='soft',\n",
              "                 weights=None)"
            ]
          },
          "metadata": {
            "tags": []
          },
          "execution_count": 29
        }
      ]
    },
    {
      "cell_type": "markdown",
      "metadata": {
        "id": "y1KqsxCdmjr1"
      },
      "source": [
        "# 교차검증 적용"
      ]
    },
    {
      "cell_type": "code",
      "metadata": {
        "id": "Se5EIOiVmjr2"
      },
      "source": [
        "SKF = StratifiedKFold( n_splits = 5,  shuffle = True, random_state = 16)"
      ],
      "execution_count": 30,
      "outputs": []
    },
    {
      "cell_type": "code",
      "metadata": {
        "id": "bTcn2gYgmjr2"
      },
      "source": [
        "KNN_scores=cross_validate(KNN_model, x_train, y_train, cv=SKF, scoring=make_scorer(f1_score))\n",
        "SVM_scores=cross_validate(SVM_model, x_train, y_train, cv=SKF, scoring=make_scorer(f1_score))\n",
        "DT_scores=cross_validate(DT_model, x_train, y_train, cv=SKF, scoring=make_scorer(f1_score))\n",
        "RF_scores=cross_validate(RF_model, x_train, y_train, cv=SKF, scoring=make_scorer(f1_score))\n",
        "ensemble_scores=cross_validate(ensemble, x_train, y_train, cv=SKF, scoring=make_scorer(f1_score))\n",
        "\n",
        "# 각 모델들의 성능 평가를 위해 교차검증 실시  확인할 score는 f1 임"
      ],
      "execution_count": 31,
      "outputs": []
    },
    {
      "cell_type": "code",
      "metadata": {
        "colab": {
          "base_uri": "https://localhost:8080/"
        },
        "id": "QyL30e8Zmjr2",
        "outputId": "da98cc18-e13e-492b-f0b3-28e9947828c6"
      },
      "source": [
        "print(KNN_scores)\n",
        "print(SVM_scores)\n",
        "print(DT_scores)\n",
        "print(RF_scores)\n",
        "print(ensemble_scores)\n",
        "\n",
        "# validate 를 통해 모델 학습시간, 모델 가동시간, f1_score 를 확인 가능"
      ],
      "execution_count": 32,
      "outputs": [
        {
          "output_type": "stream",
          "text": [
            "{'fit_time': array([0.00439191, 0.00323987, 0.00182247, 0.00185943, 0.00236416]), 'score_time': array([0.00602674, 0.0049684 , 0.00316477, 0.00297427, 0.00377011]), 'test_score': array([0.7032967 , 0.7       , 0.79545455, 0.60674157, 0.75294118])}\n",
            "{'fit_time': array([0.03798914, 0.03716135, 0.04162645, 0.03836799, 0.04202628]), 'score_time': array([0.00286102, 0.00282335, 0.00345469, 0.00282574, 0.00517607]), 'test_score': array([0.65263158, 0.64583333, 0.77083333, 0.64444444, 0.62650602])}\n",
            "{'fit_time': array([0.00340128, 0.0036056 , 0.00321579, 0.00275993, 0.00302219]), 'score_time': array([0.00191832, 0.00225425, 0.0017426 , 0.00152683, 0.00151873]), 'test_score': array([0.73563218, 0.67368421, 0.69047619, 0.52380952, 0.69879518])}\n",
            "{'fit_time': array([0.03379536, 0.03389382, 0.03425694, 0.03437161, 0.03376484]), 'score_time': array([0.0036602 , 0.00371647, 0.00386643, 0.00364733, 0.00366998]), 'test_score': array([0.75862069, 0.7032967 , 0.72093023, 0.75268817, 0.65789474])}\n",
            "{'fit_time': array([0.08543563, 0.08836794, 0.07877827, 0.07754803, 0.07880831]), 'score_time': array([0.0076704 , 0.00757265, 0.00763345, 0.00757027, 0.00814724]), 'test_score': array([0.7032967 , 0.70707071, 0.71428571, 0.62068966, 0.74698795])}\n"
          ],
          "name": "stdout"
        }
      ]
    },
    {
      "cell_type": "code",
      "metadata": {
        "colab": {
          "base_uri": "https://localhost:8080/"
        },
        "id": "z8dQ4_y2mjr2",
        "outputId": "43ccff0b-0c44-4fbd-a411-290edeee1f25"
      },
      "source": [
        "KNN_f1_score = KNN_scores[\"test_score\"].mean()\n",
        "SVN_f1_score = SVM_scores[\"test_score\"].mean()\n",
        "DT_f1_score = DT_scores[\"test_score\"].mean()\n",
        "RF_f1_score = RF_scores[\"test_score\"].mean()\n",
        "ensemble_f1_score = ensemble_scores[\"test_score\"].mean()\n",
        "\n",
        "\n",
        "print(\"f1_score: {0: .4f}\".format(KNN_f1_score))\n",
        "print(\"f1_score: {0: .4f}\".format(SVN_f1_score))\n",
        "print(\"f1_score: {0: .4f}\".format(DT_f1_score))\n",
        "print(\"f1_score: {0: .4f}\".format(RF_f1_score))\n",
        "print(\"f1_score: {0: .4f}\".format(ensemble_f1_score))\n",
        "\n",
        "# 나온 값들의 평균을 확인을 위해 mean 값을 print로 표시"
      ],
      "execution_count": 33,
      "outputs": [
        {
          "output_type": "stream",
          "text": [
            "f1_score:  0.7117\n",
            "f1_score:  0.6680\n",
            "f1_score:  0.6645\n",
            "f1_score:  0.7187\n",
            "f1_score:  0.6985\n"
          ],
          "name": "stdout"
        }
      ]
    },
    {
      "cell_type": "markdown",
      "metadata": {
        "id": "gZLaBnPymjr3"
      },
      "source": [
        "# test 데이터 예측 정확도"
      ]
    },
    {
      "cell_type": "code",
      "metadata": {
        "id": "WZJeN32omjr3"
      },
      "source": [
        "pred_KNN = KNN_model.predict(x_test)\n",
        "pred_SVM = SVM_model.predict(x_test)\n",
        "pred_DT = DT_model.predict(x_test)\n",
        "pred_RF = RF_model.predict(x_test)\n",
        "\n",
        "# 각 모델들의 test 데이터에 대한 예측 결과를 알기 위해 각각 예측실행"
      ],
      "execution_count": 34,
      "outputs": []
    },
    {
      "cell_type": "code",
      "metadata": {
        "id": "5XA3I30Qmjr3"
      },
      "source": [
        "y_predict= ensemble.predict(x_test)\n",
        "\n",
        "# 적용 모델인 Voting ensemble 예측"
      ],
      "execution_count": 35,
      "outputs": []
    },
    {
      "cell_type": "code",
      "metadata": {
        "scrolled": true,
        "colab": {
          "base_uri": "https://localhost:8080/"
        },
        "id": "5j7Jc8x2mjr3",
        "outputId": "04618c4b-f647-4dfc-f6d4-adebd6bf25cf"
      },
      "source": [
        "print('KNN',f1_score(y_test,pred_KNN))\n",
        "print('SVM',f1_score(y_test,pred_SVM))\n",
        "print('DT',f1_score(y_test,pred_DT))\n",
        "print('RF',f1_score(y_test,pred_RF))\n",
        "print('Voting',f1_score(y_test,y_predict))          # 각 모델들의 f1_Score 확인"
      ],
      "execution_count": 36,
      "outputs": [
        {
          "output_type": "stream",
          "text": [
            "KNN 0.7068965517241379\n",
            "SVM 0.689655172413793\n",
            "DT 0.6551724137931035\n",
            "RF 0.7478260869565216\n",
            "Voting 0.6902654867256638\n"
          ],
          "name": "stdout"
        }
      ]
    },
    {
      "cell_type": "markdown",
      "metadata": {
        "id": "-8DyjDjsmjr3"
      },
      "source": [
        "# 2020 년 사고사례 데이터"
      ]
    },
    {
      "cell_type": "code",
      "metadata": {
        "colab": {
          "resources": {
            "http://localhost:8080/nbextensions/google.colab/files.js": {
              "data": "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",
              "ok": true,
              "headers": [
                [
                  "content-type",
                  "application/javascript"
                ]
              ],
              "status": 200,
              "status_text": ""
            }
          },
          "base_uri": "https://localhost:8080/",
          "height": 73
        },
        "id": "XdTYv4AuxOG3",
        "outputId": "fabb6306-e651-4ba6-a514-c766ab81db1b"
      },
      "source": [
        "from google.colab import files\n",
        "uploaded = files.upload()"
      ],
      "execution_count": 38,
      "outputs": [
        {
          "output_type": "display_data",
          "data": {
            "text/html": [
              "\n",
              "     <input type=\"file\" id=\"files-ccc66bff-616c-4686-92c9-eaba671e7938\" name=\"files[]\" multiple disabled\n",
              "        style=\"border:none\" />\n",
              "     <output id=\"result-ccc66bff-616c-4686-92c9-eaba671e7938\">\n",
              "      Upload widget is only available when the cell has been executed in the\n",
              "      current browser session. Please rerun this cell to enable.\n",
              "      </output>\n",
              "      <script src=\"/nbextensions/google.colab/files.js\"></script> "
            ],
            "text/plain": [
              "<IPython.core.display.HTML object>"
            ]
          },
          "metadata": {
            "tags": []
          }
        },
        {
          "output_type": "stream",
          "text": [
            "Saving 초량동 지형 강우량.xlsx to 초량동 지형 강우량.xlsx\n"
          ],
          "name": "stdout"
        }
      ]
    },
    {
      "cell_type": "code",
      "metadata": {
        "id": "hnxk5LznxN0g"
      },
      "source": [
        "import io\n",
        "accident = pd.read_excel(io.BytesIO(uploaded[\"초량동 지형 강우량.xlsx\"]))"
      ],
      "execution_count": 41,
      "outputs": []
    },
    {
      "cell_type": "code",
      "metadata": {
        "id": "Vkfln84umjr3"
      },
      "source": [
        "#accident = pd.read_excel(\"초량동 지형 강우량.xlsx\")   # 초량지하차도 지형정보 와 당일 시간당 강우량 데이터"
      ],
      "execution_count": 43,
      "outputs": []
    },
    {
      "cell_type": "code",
      "metadata": {
        "id": "_wm7lLIJmjr4"
      },
      "source": [
        "Busanaccident = accident.drop(['SLOPE_L','SLOPE_H','FLOOD','MANHOLES_RATIO'], axis = 1)  # 불필요 컬럼제거\n",
        "Busanaccidentclass = accident['FLOOD']                                                   # 종속 변수 "
      ],
      "execution_count": 42,
      "outputs": []
    },
    {
      "cell_type": "code",
      "metadata": {
        "id": "kUtwzwDGmjr4"
      },
      "source": [
        "Busanaccident.rename(columns={'R_W_SUM':'Hourly_Rainfall_Weight','HOUR_RAINFALL':'Hourly_Rainfall','IMP_SUR_RATIO':'Impervious_Surface',\n",
        "                              'IMP_W_SUM':'Impervious_Surface_Weight'},inplace=True)  \n",
        "#가중치 적용을 위해 컬럼명 수정하여 사용"
      ],
      "execution_count": 44,
      "outputs": []
    },
    {
      "cell_type": "code",
      "metadata": {
        "id": "8J-opvm1ygC0"
      },
      "source": [
        "Busanaccident['SLOPE_AVG'] = Busanaccident['SLOPE_AVG'].astype(float)\n",
        "Busanaccident['HIGH'] = Busanaccident['HIGH'].astype(float)\n",
        "\n",
        "rain_weight = Busanaccident['Hourly_Rainfall'].copy()\n",
        "imp_weight = Busanaccident['Impervious_Surface'].copy()\n",
        "slope_weight = Busanaccident['SLOPE_AVG'].copy()\n",
        "high_weight = Busanaccident['HIGH'].copy()"
      ],
      "execution_count": 46,
      "outputs": []
    },
    {
      "cell_type": "code",
      "metadata": {
        "id": "HtPBCDsTmjr4"
      },
      "source": [
        "## 강우량 가중치\n",
        "\n",
        "for idx,col in enumerate(Busanaccident['Hourly_Rainfall']):\n",
        "    if col <= 15:\n",
        "        rain_weight[idx] = col / (46)\n",
        "    elif col > 15 and col <= 35:\n",
        "        rain_weight[idx] = col / (18 * 2**2)\n",
        "    elif col > 35 and col <= 60:\n",
        "        rain_weight[idx] = col / (17 * 3**2)\n",
        "    elif col > 60 and col <= 80:\n",
        "        rain_weight[idx] = col / (11 * 4**2)\n",
        "    elif col > 80:\n",
        "        rain_weight[idx] = col / (6.28 * 5**2)\n",
        "\n",
        "## 불투수면 가중치\n",
        "\n",
        "for idx,col in enumerate(Busanaccident['Impervious_Surface']):\n",
        "    if col <= 15:\n",
        "        imp_weight[idx] = col / 6.66\n",
        "    elif col > 15 and col <= 25:\n",
        "        imp_weight[idx] = col / (20 * 2)\n",
        "    elif col > 25 and col <= 40:\n",
        "        imp_weight[idx] = col / (13.33 * 3)\n",
        "    elif col > 40 and col <= 55:\n",
        "        imp_weight[idx] = col / (33.33 * 4)\n",
        "    elif col > 55:\n",
        "        imp_weight[idx] = col / (26.67 * 5)\n",
        "\n",
        "## 경사도 가중치\n",
        "\n",
        "#Busanaccident['SLOPE_AVG_Weight'] = Busanaccident['SLOPE_AVG']\n",
        "\n",
        "for idx,col in enumerate(Busanaccident['SLOPE_AVG']):\n",
        "    if col <= 10:\n",
        "        slope_weight[idx] = col / (41.67 / 5**2 )\n",
        "    elif col > 10 and col <= 15:\n",
        "        slope_weight[idx] = col / (25 / 4**2)\n",
        "    elif col > 15 and col <= 25:\n",
        "        slope_weight[idx] = col / (16.67 / 3**2)\n",
        "    elif col > 25 and col <= 50:\n",
        "        slope_weight[idx] = col / (8.33 / 2**2)\n",
        "    elif col > 50:\n",
        "        slope_weight[idx] = col / (8.33 / 1**2)\n",
        "\n",
        "## 고도 가중치\n",
        "\n",
        "#Busanaccident['HIGH_Weight'] = Busanaccident['HIGH']\n",
        "\n",
        "for idx,col in enumerate(Busanaccident['HIGH']):\n",
        "    if col <= 20:\n",
        "        high_weight[idx] = col / (79.62 / 1**2)\n",
        "    elif col > 20 and col <= 40:\n",
        "        high_weight[idx] = col / (10.18 / 2**2)\n",
        "    elif col > 40 and col <= 60:\n",
        "        high_weight[idx] = col / (4.63 / 3**2)\n",
        "    elif col > 60 and col <= 80:\n",
        "        high_weight[idx] = col / (2.78 / 4**2)\n",
        "    elif col > 80:\n",
        "        high_weight[idx] = col / (2.78 / 5**2)\n",
        "\n",
        "slope_weight\n",
        "\n",
        "Busanaccident['Hourly_Rainfall_Weight'] = rain_weight\n",
        "Busanaccident['Impervious_Surface_Weight'] = imp_weight\n",
        "Busanaccident['SLOPE_AVG_Weight'] = slope_weight\n",
        "Busanaccident['HIGH_Weight'] = high_weight\n",
        "\n",
        "\n",
        "## 가중치 값을 구한뒤 불필요한 변수 다시 제거\n",
        "\n",
        "Busanaccident = Busanaccident.drop(['SLOPE_AVG','Impervious_Surface','Hourly_Rainfall','HIGH'], axis = 1)\n",
        "\n",
        "Busanaccident\n",
        "\n",
        "Busanaccident = Busanaccident[['Hourly_Rainfall_Weight','Impervious_Surface_Weight','SLOPE_AVG_Weight','HIGH_Weight','F_WEIGHT','PUMP_RATIO']]"
      ],
      "execution_count": 47,
      "outputs": []
    },
    {
      "cell_type": "code",
      "metadata": {
        "colab": {
          "base_uri": "https://localhost:8080/",
          "height": 917
        },
        "id": "Le9awrzumjr4",
        "outputId": "5baa33d2-17ba-42af-9b09-e24934520ecc"
      },
      "source": [
        "Busanaccident"
      ],
      "execution_count": 48,
      "outputs": [
        {
          "output_type": "execute_result",
          "data": {
            "text/html": [
              "<div>\n",
              "<style scoped>\n",
              "    .dataframe tbody tr th:only-of-type {\n",
              "        vertical-align: middle;\n",
              "    }\n",
              "\n",
              "    .dataframe tbody tr th {\n",
              "        vertical-align: top;\n",
              "    }\n",
              "\n",
              "    .dataframe thead th {\n",
              "        text-align: right;\n",
              "    }\n",
              "</style>\n",
              "<table border=\"1\" class=\"dataframe\">\n",
              "  <thead>\n",
              "    <tr style=\"text-align: right;\">\n",
              "      <th></th>\n",
              "      <th>Hourly_Rainfall_Weight</th>\n",
              "      <th>Impervious_Surface_Weight</th>\n",
              "      <th>SLOPE_AVG_Weight</th>\n",
              "      <th>HIGH_Weight</th>\n",
              "      <th>F_WEIGHT</th>\n",
              "      <th>PUMP_RATIO</th>\n",
              "    </tr>\n",
              "  </thead>\n",
              "  <tbody>\n",
              "    <tr>\n",
              "      <th>0</th>\n",
              "      <td>0.000000</td>\n",
              "      <td>0.434346</td>\n",
              "      <td>0.599952</td>\n",
              "      <td>0.050239</td>\n",
              "      <td>0.017</td>\n",
              "      <td>1.982160e-07</td>\n",
              "    </tr>\n",
              "    <tr>\n",
              "      <th>1</th>\n",
              "      <td>0.000000</td>\n",
              "      <td>0.434346</td>\n",
              "      <td>0.599952</td>\n",
              "      <td>0.050239</td>\n",
              "      <td>0.017</td>\n",
              "      <td>1.982160e-07</td>\n",
              "    </tr>\n",
              "    <tr>\n",
              "      <th>2</th>\n",
              "      <td>0.000000</td>\n",
              "      <td>0.434346</td>\n",
              "      <td>0.599952</td>\n",
              "      <td>0.050239</td>\n",
              "      <td>0.017</td>\n",
              "      <td>1.982160e-07</td>\n",
              "    </tr>\n",
              "    <tr>\n",
              "      <th>3</th>\n",
              "      <td>0.000000</td>\n",
              "      <td>0.434346</td>\n",
              "      <td>0.599952</td>\n",
              "      <td>0.050239</td>\n",
              "      <td>0.017</td>\n",
              "      <td>1.982160e-07</td>\n",
              "    </tr>\n",
              "    <tr>\n",
              "      <th>4</th>\n",
              "      <td>0.010870</td>\n",
              "      <td>0.434346</td>\n",
              "      <td>0.599952</td>\n",
              "      <td>0.050239</td>\n",
              "      <td>0.017</td>\n",
              "      <td>1.982160e-07</td>\n",
              "    </tr>\n",
              "    <tr>\n",
              "      <th>5</th>\n",
              "      <td>0.000000</td>\n",
              "      <td>0.434346</td>\n",
              "      <td>0.599952</td>\n",
              "      <td>0.050239</td>\n",
              "      <td>0.017</td>\n",
              "      <td>1.982160e-07</td>\n",
              "    </tr>\n",
              "    <tr>\n",
              "      <th>6</th>\n",
              "      <td>0.000000</td>\n",
              "      <td>0.434346</td>\n",
              "      <td>0.599952</td>\n",
              "      <td>0.050239</td>\n",
              "      <td>0.017</td>\n",
              "      <td>1.982160e-07</td>\n",
              "    </tr>\n",
              "    <tr>\n",
              "      <th>7</th>\n",
              "      <td>0.021739</td>\n",
              "      <td>0.434346</td>\n",
              "      <td>0.599952</td>\n",
              "      <td>0.050239</td>\n",
              "      <td>0.017</td>\n",
              "      <td>1.982160e-07</td>\n",
              "    </tr>\n",
              "    <tr>\n",
              "      <th>8</th>\n",
              "      <td>0.076087</td>\n",
              "      <td>0.434346</td>\n",
              "      <td>0.599952</td>\n",
              "      <td>0.050239</td>\n",
              "      <td>0.017</td>\n",
              "      <td>1.982160e-07</td>\n",
              "    </tr>\n",
              "    <tr>\n",
              "      <th>9</th>\n",
              "      <td>0.000000</td>\n",
              "      <td>0.434346</td>\n",
              "      <td>0.599952</td>\n",
              "      <td>0.050239</td>\n",
              "      <td>0.017</td>\n",
              "      <td>1.982160e-07</td>\n",
              "    </tr>\n",
              "    <tr>\n",
              "      <th>10</th>\n",
              "      <td>0.010870</td>\n",
              "      <td>0.434346</td>\n",
              "      <td>0.599952</td>\n",
              "      <td>0.050239</td>\n",
              "      <td>0.017</td>\n",
              "      <td>1.982160e-07</td>\n",
              "    </tr>\n",
              "    <tr>\n",
              "      <th>11</th>\n",
              "      <td>0.010870</td>\n",
              "      <td>0.434346</td>\n",
              "      <td>0.599952</td>\n",
              "      <td>0.050239</td>\n",
              "      <td>0.017</td>\n",
              "      <td>1.982160e-07</td>\n",
              "    </tr>\n",
              "    <tr>\n",
              "      <th>12</th>\n",
              "      <td>0.010870</td>\n",
              "      <td>0.434346</td>\n",
              "      <td>0.599952</td>\n",
              "      <td>0.050239</td>\n",
              "      <td>0.017</td>\n",
              "      <td>1.982160e-07</td>\n",
              "    </tr>\n",
              "    <tr>\n",
              "      <th>13</th>\n",
              "      <td>0.010870</td>\n",
              "      <td>0.434346</td>\n",
              "      <td>0.599952</td>\n",
              "      <td>0.050239</td>\n",
              "      <td>0.017</td>\n",
              "      <td>1.982160e-07</td>\n",
              "    </tr>\n",
              "    <tr>\n",
              "      <th>14</th>\n",
              "      <td>0.021739</td>\n",
              "      <td>0.434346</td>\n",
              "      <td>0.599952</td>\n",
              "      <td>0.050239</td>\n",
              "      <td>0.017</td>\n",
              "      <td>1.982160e-07</td>\n",
              "    </tr>\n",
              "    <tr>\n",
              "      <th>15</th>\n",
              "      <td>0.141304</td>\n",
              "      <td>0.434346</td>\n",
              "      <td>0.599952</td>\n",
              "      <td>0.050239</td>\n",
              "      <td>0.017</td>\n",
              "      <td>1.982160e-07</td>\n",
              "    </tr>\n",
              "    <tr>\n",
              "      <th>16</th>\n",
              "      <td>0.173913</td>\n",
              "      <td>0.434346</td>\n",
              "      <td>0.599952</td>\n",
              "      <td>0.050239</td>\n",
              "      <td>0.017</td>\n",
              "      <td>1.982160e-07</td>\n",
              "    </tr>\n",
              "    <tr>\n",
              "      <th>17</th>\n",
              "      <td>0.108696</td>\n",
              "      <td>0.434346</td>\n",
              "      <td>0.599952</td>\n",
              "      <td>0.050239</td>\n",
              "      <td>0.017</td>\n",
              "      <td>1.982160e-07</td>\n",
              "    </tr>\n",
              "    <tr>\n",
              "      <th>18</th>\n",
              "      <td>0.141304</td>\n",
              "      <td>0.434346</td>\n",
              "      <td>0.599952</td>\n",
              "      <td>0.050239</td>\n",
              "      <td>0.017</td>\n",
              "      <td>1.982160e-07</td>\n",
              "    </tr>\n",
              "    <tr>\n",
              "      <th>19</th>\n",
              "      <td>0.282609</td>\n",
              "      <td>0.434346</td>\n",
              "      <td>0.599952</td>\n",
              "      <td>0.050239</td>\n",
              "      <td>0.017</td>\n",
              "      <td>1.982160e-07</td>\n",
              "    </tr>\n",
              "    <tr>\n",
              "      <th>20</th>\n",
              "      <td>0.173913</td>\n",
              "      <td>0.434346</td>\n",
              "      <td>0.599952</td>\n",
              "      <td>0.050239</td>\n",
              "      <td>0.017</td>\n",
              "      <td>1.982160e-07</td>\n",
              "    </tr>\n",
              "    <tr>\n",
              "      <th>21</th>\n",
              "      <td>0.333333</td>\n",
              "      <td>0.434346</td>\n",
              "      <td>0.599952</td>\n",
              "      <td>0.050239</td>\n",
              "      <td>0.017</td>\n",
              "      <td>1.982160e-07</td>\n",
              "    </tr>\n",
              "    <tr>\n",
              "      <th>22</th>\n",
              "      <td>0.411932</td>\n",
              "      <td>0.434346</td>\n",
              "      <td>0.599952</td>\n",
              "      <td>0.050239</td>\n",
              "      <td>0.017</td>\n",
              "      <td>1.982160e-07</td>\n",
              "    </tr>\n",
              "    <tr>\n",
              "      <th>23</th>\n",
              "      <td>0.163043</td>\n",
              "      <td>0.434346</td>\n",
              "      <td>0.599952</td>\n",
              "      <td>0.050239</td>\n",
              "      <td>0.017</td>\n",
              "      <td>1.982160e-07</td>\n",
              "    </tr>\n",
              "    <tr>\n",
              "      <th>24</th>\n",
              "      <td>0.163043</td>\n",
              "      <td>0.434346</td>\n",
              "      <td>0.599952</td>\n",
              "      <td>0.050239</td>\n",
              "      <td>0.017</td>\n",
              "      <td>1.982160e-07</td>\n",
              "    </tr>\n",
              "    <tr>\n",
              "      <th>25</th>\n",
              "      <td>0.000000</td>\n",
              "      <td>0.434346</td>\n",
              "      <td>0.599952</td>\n",
              "      <td>0.050239</td>\n",
              "      <td>0.017</td>\n",
              "      <td>1.982160e-07</td>\n",
              "    </tr>\n",
              "    <tr>\n",
              "      <th>26</th>\n",
              "      <td>0.000000</td>\n",
              "      <td>0.434346</td>\n",
              "      <td>0.599952</td>\n",
              "      <td>0.050239</td>\n",
              "      <td>0.017</td>\n",
              "      <td>1.982160e-07</td>\n",
              "    </tr>\n",
              "    <tr>\n",
              "      <th>27</th>\n",
              "      <td>0.000000</td>\n",
              "      <td>0.434346</td>\n",
              "      <td>0.599952</td>\n",
              "      <td>0.050239</td>\n",
              "      <td>0.017</td>\n",
              "      <td>1.982160e-07</td>\n",
              "    </tr>\n",
              "  </tbody>\n",
              "</table>\n",
              "</div>"
            ],
            "text/plain": [
              "    Hourly_Rainfall_Weight  Impervious_Surface_Weight  ...  F_WEIGHT    PUMP_RATIO\n",
              "0                 0.000000                   0.434346  ...     0.017  1.982160e-07\n",
              "1                 0.000000                   0.434346  ...     0.017  1.982160e-07\n",
              "2                 0.000000                   0.434346  ...     0.017  1.982160e-07\n",
              "3                 0.000000                   0.434346  ...     0.017  1.982160e-07\n",
              "4                 0.010870                   0.434346  ...     0.017  1.982160e-07\n",
              "5                 0.000000                   0.434346  ...     0.017  1.982160e-07\n",
              "6                 0.000000                   0.434346  ...     0.017  1.982160e-07\n",
              "7                 0.021739                   0.434346  ...     0.017  1.982160e-07\n",
              "8                 0.076087                   0.434346  ...     0.017  1.982160e-07\n",
              "9                 0.000000                   0.434346  ...     0.017  1.982160e-07\n",
              "10                0.010870                   0.434346  ...     0.017  1.982160e-07\n",
              "11                0.010870                   0.434346  ...     0.017  1.982160e-07\n",
              "12                0.010870                   0.434346  ...     0.017  1.982160e-07\n",
              "13                0.010870                   0.434346  ...     0.017  1.982160e-07\n",
              "14                0.021739                   0.434346  ...     0.017  1.982160e-07\n",
              "15                0.141304                   0.434346  ...     0.017  1.982160e-07\n",
              "16                0.173913                   0.434346  ...     0.017  1.982160e-07\n",
              "17                0.108696                   0.434346  ...     0.017  1.982160e-07\n",
              "18                0.141304                   0.434346  ...     0.017  1.982160e-07\n",
              "19                0.282609                   0.434346  ...     0.017  1.982160e-07\n",
              "20                0.173913                   0.434346  ...     0.017  1.982160e-07\n",
              "21                0.333333                   0.434346  ...     0.017  1.982160e-07\n",
              "22                0.411932                   0.434346  ...     0.017  1.982160e-07\n",
              "23                0.163043                   0.434346  ...     0.017  1.982160e-07\n",
              "24                0.163043                   0.434346  ...     0.017  1.982160e-07\n",
              "25                0.000000                   0.434346  ...     0.017  1.982160e-07\n",
              "26                0.000000                   0.434346  ...     0.017  1.982160e-07\n",
              "27                0.000000                   0.434346  ...     0.017  1.982160e-07\n",
              "\n",
              "[28 rows x 6 columns]"
            ]
          },
          "metadata": {
            "tags": []
          },
          "execution_count": 48
        }
      ]
    },
    {
      "cell_type": "markdown",
      "metadata": {
        "id": "E52wRT01mjr4"
      },
      "source": [
        "## 정리된 데이터에 scale 적용"
      ]
    },
    {
      "cell_type": "code",
      "metadata": {
        "id": "mflMW4zFmjr4"
      },
      "source": [
        "scaler = MinMaxScaler()\n",
        "scaler.fit(Busanaccident)\n",
        "Busanaccident = scaler.transform(Busanaccident)                         # sccler 적용"
      ],
      "execution_count": 49,
      "outputs": []
    },
    {
      "cell_type": "markdown",
      "metadata": {
        "id": "P8owI-8_mjr5"
      },
      "source": [
        "## 학습 데이터와 동일한 데이터 형태로 만들기위해 pca사용"
      ]
    },
    {
      "cell_type": "code",
      "metadata": {
        "id": "ukzJfHKEmjr5"
      },
      "source": [
        "pca = PCA(n_components=4)\n",
        "printcipalComponents = pca.fit_transform(Busanaccident)\n",
        "Busanaccident = pd.DataFrame(data=printcipalComponents, columns = ['principal component1', 'principal component2','principal component3', 'principal component4'])"
      ],
      "execution_count": 50,
      "outputs": []
    },
    {
      "cell_type": "markdown",
      "metadata": {
        "id": "smGuim6hmjr5"
      },
      "source": [
        "## 초량동에 대한 예측 실시\n"
      ]
    },
    {
      "cell_type": "code",
      "metadata": {
        "id": "fnfdMphkmjr5"
      },
      "source": [
        "accident_predict= ensemble.predict(Busanaccident)                       # 학습된 모델을 활용해 사고사례 예측 실시"
      ],
      "execution_count": null,
      "outputs": []
    },
    {
      "cell_type": "code",
      "metadata": {
        "id": "q77oofr0mjr5",
        "outputId": "5a9103e0-bdca-4f28-9a2e-51d6fbfcdd86"
      },
      "source": [
        "print(accident_predict)                                                 # 예측값 확인"
      ],
      "execution_count": null,
      "outputs": [
        {
          "output_type": "stream",
          "text": [
            "[0 0 0 0 0 0 0 0 0 0 0 0 0 0 0 0 0 0 0 0 0 0 1 0 0 0 0 0]\n"
          ],
          "name": "stdout"
        }
      ]
    },
    {
      "cell_type": "code",
      "metadata": {
        "id": "PF8AU9gymjr5"
      },
      "source": [
        "joblib.dump(ensemble, '../../Data/final_data/model/geo_model/ensemble.pkl')\n",
        "joblib.dump(ensemble, '../../Web/ensemble.pkl')"
      ],
      "execution_count": null,
      "outputs": []
    }
  ]
}